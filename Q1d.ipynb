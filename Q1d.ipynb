{
 "cells": [
  {
   "cell_type": "code",
   "execution_count": 2,
   "metadata": {},
   "outputs": [
    {
     "name": "stdout",
     "output_type": "stream",
     "text": [
      "Whether the results are right?  True\n"
     ]
    }
   ],
   "source": [
    "import random\n",
    "import math\n",
    "import cmath\n",
    "import numpy as np\n",
    "def bitReverse(f):\n",
    "#     this function is used to bit-reverse the f array\n",
    "    n = len(f)\n",
    "    A = np.arange(n)\n",
    "    # initialize the output list\n",
    "    bitRevList = np.zeros(n, dtype=np.complex_)\n",
    "    # the length of the binary format of n\n",
    "    width = int(math.log(n,2))\n",
    "    for i in range(n):\n",
    "        b = '{:0{width}b}'.format(i,width=width )\n",
    "        bitRevList[int(b[::-1], 2)] = f[i]\n",
    "    return bitRevList\n",
    "\n",
    "\n",
    "def ButterflyFFT(f):\n",
    "#     Usage: F = ButterflyFFT(f)\n",
    "#     Compute the discrete Fourier transform F\n",
    "#     of the complex vector f using the\n",
    "#     non-recursive butterfly algorithm for the\n",
    "#     fast Fourier transform. F is the computed\n",
    "#     complex DFT.\n",
    "    n = len(f)\n",
    "    # if n is not the power of 2, return error\n",
    "    if np.log2(n) % 1 > 0:\n",
    "        raise ValueError(\" n is not the power of 2\")\n",
    "    # bit-reverse the f array\n",
    "    bitRevList = bitReverse(f)\n",
    "    # s is the number of stages\n",
    "    for s in range(1, int(math.log(n,2))+1):\n",
    "        # m is the number of nodes in the subblock\n",
    "        m = 2**s\n",
    "        wm = cmath.exp(- 1j* cmath.pi * 2.0/m)\n",
    "        for k in range(0, n, m):\n",
    "            w = 1\n",
    "            for j in range(0, int(m/2)):\n",
    "                t = w*bitRevList[k+j+int(m/2) ]\n",
    "                u = bitRevList[k+j]\n",
    "                bitRevList[k+j] = u+t\n",
    "                bitRevList[k+j+int(m/2)] = u-t\n",
    "                w = w*wm\n",
    "    return bitRevList\n",
    "\n",
    "fnList = np.random.random(16)\n",
    "\n",
    "# verify whether the results are right\n",
    "\n",
    "print('Whether the results are right?  '+str(np.allclose(ButterflyFFT(fnList), np.fft.fft(fnList))))\n"
   ]
  },
  {
   "cell_type": "code",
   "execution_count": null,
   "metadata": {},
   "outputs": [],
   "source": []
  },
  {
   "cell_type": "code",
   "execution_count": null,
   "metadata": {},
   "outputs": [],
   "source": []
  },
  {
   "cell_type": "code",
   "execution_count": null,
   "metadata": {},
   "outputs": [],
   "source": []
  },
  {
   "cell_type": "code",
   "execution_count": null,
   "metadata": {},
   "outputs": [],
   "source": []
  }
 ],
 "metadata": {
  "kernelspec": {
   "display_name": "Python 3",
   "language": "python",
   "name": "python3"
  },
  "language_info": {
   "codemirror_mode": {
    "name": "ipython",
    "version": 3
   },
   "file_extension": ".py",
   "mimetype": "text/x-python",
   "name": "python",
   "nbconvert_exporter": "python",
   "pygments_lexer": "ipython3",
   "version": "3.8.3"
  }
 },
 "nbformat": 4,
 "nbformat_minor": 4
}
