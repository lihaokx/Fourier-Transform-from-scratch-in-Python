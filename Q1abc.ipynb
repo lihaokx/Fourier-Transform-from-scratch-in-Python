{
 "cells": [
  {
   "cell_type": "code",
   "execution_count": 2,
   "metadata": {},
   "outputs": [
    {
     "name": "stdout",
     "output_type": "stream",
     "text": [
      "When k = 10, n = 1024, Time of DFT: 3455.3372859954834 ms\n",
      "When k = 10, n = 1024, Time of FFT: 18.375396728515625 ms\n",
      "whether are the results of these two algorithms the same?  True\n",
      "When k = 11, n = 2048, Time of DFT: 13228.506326675415 ms\n",
      "When k = 11, n = 2048, Time of FFT: 35.326480865478516 ms\n",
      "whether are the results of these two algorithms the same?  True\n"
     ]
    }
   ],
   "source": [
    "import numpy as np\n",
    "import random\n",
    "import math\n",
    "import cmath\n",
    "import time\n",
    "\n",
    "def DiscreteFT(f):\n",
    "#     Usage: F = DiscreteFT(f)\n",
    "#     Compute the discrete Fourier transform F\n",
    "#     of the complex vector f using the direct\n",
    "#     formula. F is the computed complex DFT.\n",
    "    pi_2 = cmath.pi * 2.0\n",
    "    N = len(f)\n",
    "    F = []\n",
    "    for k in range(N):\n",
    "        #initialize the Fk\n",
    "        Fk = 0.0\n",
    "        for n in range(N):\n",
    "            Fk += f[n] * cmath.exp(- 1j * pi_2 * k * n / N)\n",
    "        F.append(Fk)\n",
    "    F = np.asarray(F)\n",
    "    return F \n",
    "\n",
    "def FastFT(f):\n",
    "# Usage: F = FastFT(f)\n",
    "# Compute the discrete Fourier transform F\n",
    "# of the complex column vector f using the\n",
    "# fast Fourier transform method. F is a\n",
    "# column vector containing the computed\n",
    "# complex DFT.\n",
    "    f = np.asarray(f, dtype=float)\n",
    "    # the number of elements in f\n",
    "    N = f.shape[0]\n",
    "    m = np.log2(N)\n",
    "    # if N is not the power of 2, return error\n",
    "    if m % 1 > 0:\n",
    "        raise ValueError(\"N is not the power of 2\")\n",
    "    # the lowest level of recursive algorithm\n",
    "    if m==0:\n",
    "        return f \n",
    "    # if m!=0, do the odd and even part recursively\n",
    "    else:\n",
    "        X_even = FastFT(f[0::2])\n",
    "        X_odd =  FastFT(f[1::2])\n",
    "        terms = np.exp(-2j * np.pi * np.arange(N) / N)\n",
    "        F = np.concatenate([X_even + terms[:int(N/2)] * X_odd, X_even + terms[int(N/2):] * X_odd])\n",
    "        return F\n",
    "\n",
    "# print the results and time of these two algorithms\n",
    "for i in range(10,12,1):\n",
    "    \n",
    "    fnList = np.random.random(2**i)\n",
    "    start_time = time.time()\n",
    "    FmList = DiscreteFT(fnList)\n",
    "    tDFT = (time.time()-start_time)*1000\n",
    "    print('When k = '+str(i)+ ', n = '+str(2**i)+', Time of DFT: '+str(tDFT)+' ms' )\n",
    "\n",
    "    start_time = time.time()\n",
    "    fftList = FastFT(fnList)\n",
    "    tFFT = (time.time()-start_time)*1000\n",
    "    print('When k = '+str(i)+ ', n = '+str(2**i)+', Time of FFT: '+str(tFFT) +' ms')\n",
    "    \n",
    "    #verify the results\n",
    "    print('whether are the results of these two algorithms the same?  '+ str(np.allclose(FmList, fftList )))\n"
   ]
  },
  {
   "cell_type": "code",
   "execution_count": null,
   "metadata": {},
   "outputs": [],
   "source": []
  },
  {
   "cell_type": "code",
   "execution_count": null,
   "metadata": {},
   "outputs": [],
   "source": []
  },
  {
   "cell_type": "code",
   "execution_count": null,
   "metadata": {},
   "outputs": [],
   "source": []
  }
 ],
 "metadata": {
  "kernelspec": {
   "display_name": "Python 3",
   "language": "python",
   "name": "python3"
  },
  "language_info": {
   "codemirror_mode": {
    "name": "ipython",
    "version": 3
   },
   "file_extension": ".py",
   "mimetype": "text/x-python",
   "name": "python",
   "nbconvert_exporter": "python",
   "pygments_lexer": "ipython3",
   "version": "3.8.3"
  }
 },
 "nbformat": 4,
 "nbformat_minor": 4
}
